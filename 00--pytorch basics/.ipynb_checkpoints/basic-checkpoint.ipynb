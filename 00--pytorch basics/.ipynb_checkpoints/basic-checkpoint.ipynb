{
 "cells": [
  {
   "cell_type": "code",
   "execution_count": 2,
   "metadata": {
    "collapsed": true
   },
   "outputs": [],
   "source": [
    "import torch\n",
    "import torch.utils.data\n",
    "import numpy as np"
   ]
  },
  {
   "cell_type": "code",
   "execution_count": 3,
   "metadata": {},
   "outputs": [
    {
     "name": "stdout",
     "output_type": "stream",
     "text": [
      "tensor([[ 0.7243, -0.2668, -0.4473,  0.7291],\n",
      "        [ 0.6961, -0.5522,  0.0189,  0.5789],\n",
      "        [ 0.8368, -0.2468, -0.6379,  0.8383],\n",
      "        [ 0.5429, -0.2166, -0.3802,  0.4664]])\n"
     ]
    }
   ],
   "source": [
    "arr1 = torch.rand(4,3)\n",
    "arr2 = torch.randn(3,4)\n",
    "print(torch.mm(arr1, arr2))"
   ]
  },
  {
   "cell_type": "code",
   "execution_count": 4,
   "metadata": {},
   "outputs": [
    {
     "name": "stdout",
     "output_type": "stream",
     "text": [
      "torch.Size([10, 2, 3, 4])\n"
     ]
    }
   ],
   "source": [
    "arr1 = torch.rand(1,2,3,4)\n",
    "arr2 = torch.rand(2,2,3,4)\n",
    "arr3 = torch.rand(3,2,3,4)\n",
    "arr4 = torch.rand(4,2,3,4)\n",
    "output = torch.cat([arr1, arr2, arr3, arr4], 0)\n",
    "print(output.size())"
   ]
  },
  {
   "cell_type": "code",
   "execution_count": 7,
   "metadata": {},
   "outputs": [
    {
     "name": "stdout",
     "output_type": "stream",
     "text": [
      "tensor([ 0.9050,  0.6789,  0.7793,  0.8103,  0.7558])\n",
      "tensor([ 2,  2,  0,  0,  2])\n"
     ]
    }
   ],
   "source": [
    "arr = torch.rand(5,3)\n",
    "maxvalue, index = torch.max(arr, 1)\n",
    "print(maxvalue)\n",
    "print(index)"
   ]
  },
  {
   "cell_type": "code",
   "execution_count": null,
   "metadata": {
    "collapsed": true
   },
   "outputs": [],
   "source": []
  }
 ],
 "metadata": {
  "kernelspec": {
   "display_name": "Python 3",
   "language": "python",
   "name": "python3"
  },
  "language_info": {
   "codemirror_mode": {
    "name": "ipython",
    "version": 3
   },
   "file_extension": ".py",
   "mimetype": "text/x-python",
   "name": "python",
   "nbconvert_exporter": "python",
   "pygments_lexer": "ipython3",
   "version": "3.5.4"
  }
 },
 "nbformat": 4,
 "nbformat_minor": 2
}
