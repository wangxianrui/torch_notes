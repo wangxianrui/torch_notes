{
 "cells": [
  {
   "cell_type": "code",
   "execution_count": 5,
   "metadata": {
    "collapsed": true
   },
   "outputs": [],
   "source": [
    "import torch\n",
    "import torch.utils.data\n",
    "import torchvision.models\n",
    "import numpy as np"
   ]
  },
  {
   "cell_type": "code",
   "execution_count": 3,
   "metadata": {},
   "outputs": [
    {
     "name": "stdout",
     "output_type": "stream",
     "text": [
      "tensor([[ 1.6701,  1.0496,  0.7903, -0.1860],\n",
      "        [ 1.4751,  0.5480,  1.3900,  0.1419],\n",
      "        [ 1.0953,  0.4136,  0.4657, -1.0812],\n",
      "        [ 2.4708,  1.4953,  1.4954,  0.2431]])\n"
     ]
    }
   ],
   "source": [
    "# torch.mm\n",
    "arr1 = torch.rand(4,3)\n",
    "arr2 = torch.randn(3,4)\n",
    "print(torch.mm(arr1, arr2))"
   ]
  },
  {
   "cell_type": "code",
   "execution_count": 4,
   "metadata": {},
   "outputs": [
    {
     "name": "stdout",
     "output_type": "stream",
     "text": [
      "torch.Size([10, 2, 3, 4])\n"
     ]
    }
   ],
   "source": [
    "# torch.cat\n",
    "arr1 = torch.rand(1,2,3,4)\n",
    "arr2 = torch.rand(2,2,3,4)\n",
    "arr3 = torch.rand(3,2,3,4)\n",
    "arr4 = torch.rand(4,2,3,4)\n",
    "output = torch.cat([arr1, arr2, arr3, arr4], 0)\n",
    "print(output.size())"
   ]
  },
  {
   "cell_type": "code",
   "execution_count": 7,
   "metadata": {},
   "outputs": [
    {
     "name": "stdout",
     "output_type": "stream",
     "text": [
      "tensor([ 0.9050,  0.6789,  0.7793,  0.8103,  0.7558])\n",
      "tensor([ 2,  2,  0,  0,  2])\n"
     ]
    }
   ],
   "source": [
    "# torch.max\n",
    "arr = torch.rand(5,3)\n",
    "maxvalue, index = torch.max(arr, 1)\n",
    "print(maxvalue)\n",
    "print(index)"
   ]
  },
  {
   "cell_type": "code",
   "execution_count": 14,
   "metadata": {},
   "outputs": [],
   "source": [
    "# adjust learning_rate\n",
    "learning_rate = 1e-4\n",
    "new_learning_rate = 1e-5\n",
    "model = torchvision.models.resnet18()\n",
    "optimizer = torch.optim.SGD(params=model.parameters(), lr=learning_rate)\n",
    "for param_group in optimizer.param_groups:\n",
    "    param_group['lr'] = new_learning_rate"
   ]
  },
  {
   "cell_type": "code",
   "execution_count": null,
   "metadata": {
    "collapsed": true
   },
   "outputs": [],
   "source": []
  }
 ],
 "metadata": {
  "kernelspec": {
   "display_name": "Python 3",
   "language": "python",
   "name": "python3"
  },
  "language_info": {
   "codemirror_mode": {
    "name": "ipython",
    "version": 3
   },
   "file_extension": ".py",
   "mimetype": "text/x-python",
   "name": "python",
   "nbconvert_exporter": "python",
   "pygments_lexer": "ipython3",
   "version": "3.5.4"
  }
 },
 "nbformat": 4,
 "nbformat_minor": 2
}
