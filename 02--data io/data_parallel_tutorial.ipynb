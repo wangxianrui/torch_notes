{
 "cells": [
  {
   "cell_type": "code",
   "execution_count": 1,
   "metadata": {
    "collapsed": true
   },
   "outputs": [],
   "source": [
    "import torch\n",
    "import torch.nn as nn\n",
    "from torch.utils.data import Dataset, DataLoader"
   ]
  },
  {
   "cell_type": "code",
   "execution_count": 2,
   "metadata": {},
   "outputs": [
    {
     "name": "stdout",
     "output_type": "stream",
     "text": [
      "cuda:0\n"
     ]
    }
   ],
   "source": [
    "input_size = 5\n",
    "output_size = 2\n",
    "batch_size = 30\n",
    "data_size = 100\n",
    "device = torch.device(\"cuda:0\" if torch.cuda.is_available() else \"cpu\")\n",
    "print(device)"
   ]
  },
  {
   "cell_type": "code",
   "execution_count": 3,
   "metadata": {
    "collapsed": true
   },
   "outputs": [],
   "source": [
    "######################################################################\n",
    "# Make a dummy (random) dataset  shuffle\n",
    "class RandomDataset(Dataset):\n",
    "    def __init__(self, size, length):\n",
    "        self.len = length\n",
    "        self.data = torch.randn(length, size)\n",
    "\n",
    "    def __getitem__(self, index):\n",
    "        return self.data[index]\n",
    "\n",
    "    def __len__(self):\n",
    "        return self.len\n",
    "\n",
    "\n",
    "rand_loader = DataLoader(dataset=RandomDataset(input_size, 100), batch_size=batch_size, shuffle=True)"
   ]
  },
  {
   "cell_type": "code",
   "execution_count": 4,
   "metadata": {
    "collapsed": true
   },
   "outputs": [],
   "source": [
    "######################################################################\n",
    "# Simple Model\n",
    "\n",
    "class Model(nn.Module):\n",
    "    def __init__(self, input_size, output_size):\n",
    "        super(Model, self).__init__()\n",
    "        self.fc = nn.Linear(input_size, output_size)\n",
    "\n",
    "    def forward(self, input):\n",
    "        output = self.fc(input)\n",
    "        print(\"In Model: input size\", input.size(),\"output size\", output.size())\n",
    "        return output"
   ]
  },
  {
   "cell_type": "code",
   "execution_count": 12,
   "metadata": {},
   "outputs": [
    {
     "name": "stdout",
     "output_type": "stream",
     "text": [
      "Let's use 4 GPUs!\n"
     ]
    },
    {
     "data": {
      "text/plain": [
       "DataParallel(\n",
       "  (module): Model(\n",
       "    (fc): Linear(in_features=5, out_features=2, bias=True)\n",
       "  )\n",
       ")"
      ]
     },
     "execution_count": 12,
     "metadata": {},
     "output_type": "execute_result"
    }
   ],
   "source": [
    "######################################################################\n",
    "# Create Model and DataParallel\n",
    "model = Model(input_size, output_size)\n",
    "if torch.cuda.device_count() > 1:\n",
    "    print(\"Let's use\", torch.cuda.device_count(), \"GPUs!\")\n",
    "    model = nn.DataParallel(model)\n",
    "model.to(device)"
   ]
  },
  {
   "cell_type": "code",
   "execution_count": 13,
   "metadata": {},
   "outputs": [
    {
     "name": "stdout",
     "output_type": "stream",
     "text": [
      "In Model: input size torch.Size([8, 5])In Model: input sizeIn Model: input sizeIn Model: input size    output sizetorch.Size([8, 5])torch.Size([6, 5])torch.Size([8, 5])    torch.Size([8, 2])output sizeoutput sizeoutput size\n",
      "   torch.Size([8, 2])torch.Size([8, 2])torch.Size([6, 2])\n",
      "\n",
      "\n",
      "In Model: input sizeIn Model: input size  In Model: input sizetorch.Size([8, 5])In Model: input sizetorch.Size([8, 5])    torch.Size([6, 5])output sizetorch.Size([8, 5])output size    output sizetorch.Size([8, 2])output sizetorch.Size([8, 2]) \n",
      " \n",
      "torch.Size([6, 2])\n",
      "torch.Size([8, 2])\n",
      "In Model: input sizeIn Model: input size  In Model: input sizeIn Model: input sizetorch.Size([8, 5])torch.Size([8, 5])    torch.Size([8, 5])torch.Size([6, 5])output sizeoutput size    output sizeoutput sizetorch.Size([8, 2])torch.Size([8, 2])  \n",
      "\n",
      "torch.Size([8, 2])torch.Size([6, 2])\n",
      "\n",
      "In Model: input sizeIn Model: input sizeIn Model: input size  In Model: input sizetorch.Size([3, 5]) torch.Size([3, 5])  torch.Size([3, 5]) torch.Size([1, 5])output size output size  output size output sizetorch.Size([3, 2]) torch.Size([3, 2]) \n",
      "torch.Size([3, 2])\n",
      "torch.Size([1, 2])\n",
      "\n"
     ]
    }
   ],
   "source": [
    "######################################################################\n",
    "# Run the Model\n",
    "for data in rand_loader:\n",
    "    input = data.to(device)\n",
    "    output = model(input)"
   ]
  },
  {
   "cell_type": "code",
   "execution_count": null,
   "metadata": {
    "collapsed": true
   },
   "outputs": [],
   "source": []
  },
  {
   "cell_type": "code",
   "execution_count": null,
   "metadata": {
    "collapsed": true
   },
   "outputs": [],
   "source": []
  }
 ],
 "metadata": {
  "kernelspec": {
   "display_name": "Python 3",
   "language": "python",
   "name": "python3"
  },
  "language_info": {
   "codemirror_mode": {
    "name": "ipython",
    "version": 3
   },
   "file_extension": ".py",
   "mimetype": "text/x-python",
   "name": "python",
   "nbconvert_exporter": "python",
   "pygments_lexer": "ipython3",
   "version": "3.5.4"
  }
 },
 "nbformat": 4,
 "nbformat_minor": 2
}
